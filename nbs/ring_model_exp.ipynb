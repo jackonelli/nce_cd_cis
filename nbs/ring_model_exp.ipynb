{
 "cells": [
  {
   "cell_type": "code",
   "execution_count": 9,
   "id": "b21d34e7",
   "metadata": {},
   "outputs": [],
   "source": [
    "import sys\n",
    "import torch\n",
    "import numpy as np\n",
    "import matplotlib.pyplot as plt\n",
    "\n",
    "sys.path.append(\"..\")\n",
    "from src.nce.binary import NceBinaryCrit\n",
    "from src.nce.cnce import CondNceCrit\n",
    "\n",
    "from src.noise_distr.normal import Normal\n",
    "from src.noise_distr.conditional_normal import ConditionalNormal\n",
    "\n",
    "from src.models.ring_model.ring_model import RingModel, RingModelNCE\n",
    "from src.data.ring_model_dataset import RingModelDataset\n",
    "\n",
    "from src.training.model_training import train_model\n",
    "from src.training.model_training import EuclideanPrecisionMetric"
   ]
  },
  {
   "cell_type": "code",
   "execution_count": null,
   "id": "70d3b7d0",
   "metadata": {},
   "outputs": [],
   "source": [
    "# Data specs\n",
    "num_dims = 5\n",
    "mu = 3\n",
    "precision = 2\n",
    "\n",
    "# Experiments specs\n",
    "num_samples = [20, 50, 100, 200]\n",
    "num_neg_samples = [2, 5, 10]\n",
    "reps = 5\n",
    "\n",
    "# Criteria\n",
    "criteria = [NceBinaryCrit, CondNceCrit]\n",
    "crit_labels = [\"binary\", \"conditional\"]\n",
    "\n",
    "# Training specs\n",
    "error_metric(EuclideanPrecisionMetric(true_precision=precision))\n",
    "batch_size = 32\n",
    "num_epochs = 10"
   ]
  },
  {
   "cell_type": "code",
   "execution_count": null,
   "id": "05c0a95f",
   "metadata": {},
   "outputs": [],
   "source": [
    "# Run experiments\n",
    "\n",
    "error_res = np.zeros((len(num_samples), len(num_neg_samples), len(criteria), reps))\n",
    "\n",
    "# Sorry för alla loopar\n",
    "for i in num_samples:\n",
    "    \n",
    "    for j in num_neg_samples:\n",
    "        \n",
    "        for rep in range(reps):\n",
    "                        \n",
    "            training_data = RingModelDataset(sample_size=i, num_dims=num_dims, mu=mu, precision=precision, \n",
    "                                             root_dir=\"data/datasets/ring_data_size_\" + str(i) + \"_nn_\" + str(j) + \"_rep_\" + str(rep))\n",
    "            train_dataloader = torch.utils.data.DataLoader(training_data, batch_size=batch_size, shuffle=True)\n",
    "\n",
    "            log_precision_init = np.random.normal()\n",
    "            \n",
    "            for k, (crit, lab) in enumerate(zip(criteria, crit_labels)):\n",
    "            \n",
    "                if isintance(crit, NceBinaryCrit):\n",
    "                    log_part_fun_init = np.random.normal()\n",
    "                    unnorm_distr = RingModelNCE(mu=mu, log_precision=log_precision_init, log_part_fun=log_part_fun_init)\n",
    "                else:\n",
    "                    unnorm_distr = RingModel(mu=mu, log_precision=log_precision_init)\n",
    "                    \n",
    "                if isintance(crit, CondNCECrit):\n",
    "                    noise_distr = ConditionalNormal(mu=0, sigma_sq=sigma_noise)\n",
    "                else:\n",
    "                    noise_distr = Normal(sigma_sq=sigma_noise)\n",
    "                    \n",
    "                criterion = crit(unnorm_distr, noise_distr)\n",
    "                \n",
    "                save_dir = \"res/param_error_\" + lab + \"_samples_\" str(i) + \"num_neg_\" + str(j) + \"_rep_\" + str(rep)\n",
    "                error_res[i, j, k, rep] = train_model(criterion, error_metric, train_loader, save_dir, neg_sample_size=j, num_epochs=num_epochs)\n",
    "\n",
    "np.save(\"res/final_param_error_ring_model_all\", error_res)"
   ]
  },
  {
   "cell_type": "code",
   "execution_count": null,
   "id": "e9fc5a9a",
   "metadata": {},
   "outputs": [],
   "source": [
    "# For visualising results\n",
    "def plot_res(x, error, label, col, ax)\n",
    "    plt.plot(x, np.mean(error, axis=-1), color=col, linewidth=1.0, marker='o', label=label)\n",
    "\n",
    "    plt.fill_between(x, np.min(error, axis=-1), np.max(error, axis=-1), alpha=0.1, color=col)"
   ]
  },
  {
   "cell_type": "code",
   "execution_count": null,
   "id": "c560bfe6",
   "metadata": {},
   "outputs": [],
   "source": [
    "# Visualise results\n",
    "fig, ax = plt.subplots((len(num_neg_samples), 1))\n",
    "colors = ['b', 'r']\n",
    "\n",
    "log_num_samples = np.log(np.array(num_samples))\n",
    "for j, (axis, col) in enumerate(zip(ax.reshape(-1), colors):\n",
    "    for k, (crit, lab) in enumerate(zip(criteria, crit_labels)):\n",
    "        plot_res(log_num_samples, error_res[:, j, k, :], lab, col, axis)\n",
    "        \n",
    "plt.show()"
   ]
  }
 ],
 "metadata": {
  "kernelspec": {
   "display_name": "Python 3",
   "language": "python",
   "name": "python3"
  },
  "language_info": {
   "codemirror_mode": {
    "name": "ipython",
    "version": 3
   },
   "file_extension": ".py",
   "mimetype": "text/x-python",
   "name": "python",
   "nbconvert_exporter": "python",
   "pygments_lexer": "ipython3",
   "version": "3.10.6"
  }
 },
 "nbformat": 4,
 "nbformat_minor": 5
}
