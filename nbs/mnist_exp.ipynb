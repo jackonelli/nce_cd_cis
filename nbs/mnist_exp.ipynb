{
 "cells": [
  {
   "cell_type": "code",
   "execution_count": null,
   "id": "b21d34e7",
   "metadata": {},
   "outputs": [],
   "source": [
    "import sys\n",
    "import os\n",
    "import torch\n",
    "import numpy as np\n",
    "import matplotlib.pyplot as plt\n",
    "\n",
    "sys.path.append(\"..\")\n",
    "from src.nce.cd_cnce import CdCnceCrit\n",
    "from src.nce.cd_mh import CdMHCrit\n",
    "\n",
    "from src.noise_distr.conditional_normal import ConditionalMultivariateNormal\n",
    "\n",
    "from src.models.rbm.rbm import Rbm\n",
    "from src.data.mnist import MnistDataset\n",
    "\n",
    "from src.training.model_training import train_model\n",
    "from src.training.training_utils import no_stopping, remove_file\n",
    "\n",
    "from src.experiments.noise_distr_utils import get_nce_noise_distr_par, get_cnce_noise_distr_par\n",
    "from src.experiments.mnist_exp_utils import initialise_params\n",
    "\n",
    "%load_ext autoreload\n",
    "%autoreload 2"
   ]
  },
  {
   "cell_type": "markdown",
   "id": "b4307bfe",
   "metadata": {},
   "source": [
    "## EXPERIMENTS"
   ]
  },
  {
   "cell_type": "code",
   "execution_count": null,
   "id": "fa4eb4c6",
   "metadata": {},
   "outputs": [],
   "source": [
    "# Data specs\n",
    "num_dims = 28**2\n",
    "\n",
    "# Experiments specs\n",
    "num_neg_samples = 2\n",
    "\n",
    "# Training specs\n",
    "batch_size = 100\n",
    "num_epochs = 5"
   ]
  },
  {
   "cell_type": "code",
   "execution_count": null,
   "id": "40698ad7",
   "metadata": {},
   "outputs": [],
   "source": [
    "# Check accuracy of model\n",
    "def rbm_acc(rbm, data_loader, k=1):\n",
    "    acc = 0\n",
    "    for i, (y, idx) in enumerate(data_loader, 0):\n",
    "        y_pred = rbm.sample(y, k=k)\n",
    "        acc += torch.mean(y_pred == y, dim=-1)\n",
    "        \n",
    "    return acc / len(data_loader.dataset)\n",
    "\n",
    "def placeholder_metric(model):\n",
    "    return model.weights.mean()"
   ]
  },
  {
   "cell_type": "code",
   "execution_count": null,
   "id": "655c310d",
   "metadata": {},
   "outputs": [],
   "source": [
    "# Configurations to consider in experiments \n",
    "\n",
    "config_conditional_multi = {\n",
    "    \"criterion\": CdCnceCrit,\n",
    "    \"label\": \"cd_cnce\",\n",
    "    \"estimate_part_fn\": False,\n",
    "    \"conditional_noise_distr\": True,\n",
    "    \"mcmc_steps\": 1,\n",
    "}\n",
    "\n",
    "configs = [config_conditional_multi]"
   ]
  },
  {
   "cell_type": "code",
   "execution_count": null,
   "id": "e82c8c76",
   "metadata": {},
   "outputs": [],
   "source": [
    "# Get data \n",
    "training_data = MnistDataset(train=True, root_dir=\"src/data/datasets/\")\n",
    "training_data.y = training_data.y[:1000, :]\n",
    "training_data.num_samples = 1000\n",
    "train_loader = torch.utils.data.DataLoader(training_data, batch_size=batch_size, shuffle=True)\n",
    "                             \n",
    "test_data = MnistDataset(train=False, root_dir=\"src/data/datasets/\")\n",
    "test_loader = torch.utils.data.DataLoader(test_data, batch_size=batch_size)"
   ]
  },
  {
   "cell_type": "code",
   "execution_count": null,
   "id": "090b9998",
   "metadata": {},
   "outputs": [],
   "source": [
    "# Initialise           \n",
    "weights, vis_bias, hidden_bias = initialise_params()\n",
    "\n",
    "# Get noise distr. params\n",
    "\n",
    "# Unconditional\n",
    "mu_noise_nce, cov_noise_nce = get_nce_noise_distr_par(training_data.get_full_data())\n",
    "\n",
    "# Conditional\n",
    "p_m = Rbm(weights=weights.clone(), vis_bias=vis_bias.clone(), hidden_bias=hidden_bias.clone())\n",
    "cov_noise_cnce = get_cnce_noise_distr_par(training_data.get_full_data(), num_neg_samples, p_m)"
   ]
  },
  {
   "cell_type": "code",
   "execution_count": null,
   "id": "b8a08bb5",
   "metadata": {},
   "outputs": [],
   "source": [
    "# Run experiments\n",
    "\n",
    "for config in configs:\n",
    "    \n",
    "    # This is a side-effect that I will fix\n",
    "    if config[\"label\"] == \"cd_cnce\" or config[\"label\"] == \"cd_mh\":\n",
    "        remove_file(\"res/\" + config[\"label\"] + \"_num_neg_\" + str(num_neg_samples) + \"_cd_cnce_acc_prob.npy\")\n",
    "        remove_file(\"res/\" + config[\"label\"] + \"_num_neg_\" + str(num_neg_samples) + \"_cd_mh_acc_prob.npy\")\n",
    "\n",
    "    # Make sure that these are \"reinitialised\"\n",
    "    p_m, p_n, criterion = None, None, None\n",
    "\n",
    "    p_m = Rbm(weights=weights.clone(), vis_bias=vis_bias.clone(), hidden_bias=hidden_bias.clone())\n",
    "    \n",
    "    if config[\"conditional_noise_distr\"]:\n",
    "        p_n = ConditionalMultivariateNormal(cov=cov_noise_cnce)\n",
    "    else:\n",
    "        p_n = MultivariateNormal(mu=mu_noise_nce, cov=cov_noise_nce)\n",
    "\n",
    "    if config[\"mcmc_steps\"] is not None:\n",
    "        criterion = config[\"criterion\"](p_m, p_n, num_neg_samples, config[\"mcmc_steps\"])\n",
    "    else:\n",
    "        criterion = config[\"criterion\"](p_m, p_n, num_neg_samples)\n",
    "\n",
    "    save_dir = None\n",
    "    _ = train_model(criterion, placeholder_metric, train_loader, save_dir, num_epochs=num_epochs,\n",
    "                    decaying_lr=False, stopping_condition=no_stopping)\n",
    "    \n",
    "    # Check test accuracy of model\n",
    "    acc = rbm_acc(p_m, test_loader)\n",
    "    print(\"Model accuracy: {}\".format(acc))\n",
    "    \n",
    "    # Save model\n",
    "    torch.save(p_m.state_dict(), \"res/params_\" + config[\"label\"])\n"
   ]
  },
  {
   "cell_type": "code",
   "execution_count": null,
   "id": "489b6037",
   "metadata": {},
   "outputs": [],
   "source": [
    "# Visualise results\n",
    "\n",
    "num_samples = 4\n",
    "\n",
    "p_m = Rbm(weights=weights.clone(), vis_bias=vis_bias.clone(), hidden_bias=hidden_bias.clone())\n",
    "for config in configs:\n",
    "    p_m.load_state_dict(torch.load(\"res/params_\" + config[\"label\"]))\n",
    "    y_pred = p_m.sample(torch.randn((num_samples, num_dims)), k=1) # Eller hur fungerar detta?\n",
    "    \n",
    "    plt.imshow(np.transpose(torchvision.utils.make_grid(y_pred.reshape(-1, 1, 28, 28)).numpy(), (1, 2, 0)))\n",
    "    plt.title(config[\"label\"])\n",
    "    plt.show()"
   ]
  }
 ],
 "metadata": {
  "kernelspec": {
   "display_name": "Python 3",
   "language": "python",
   "name": "python3"
  },
  "language_info": {
   "codemirror_mode": {
    "name": "ipython",
    "version": 3
   },
   "file_extension": ".py",
   "mimetype": "text/x-python",
   "name": "python",
   "nbconvert_exporter": "python",
   "pygments_lexer": "ipython3",
   "version": "3.10.6"
  }
 },
 "nbformat": 4,
 "nbformat_minor": 5
}
