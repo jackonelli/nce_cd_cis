{
 "cells": [
  {
   "cell_type": "markdown",
   "id": "aae1d3d4",
   "metadata": {},
   "source": [
    "# Choice of proposal distribution\n"
   ]
  },
  {
   "cell_type": "code",
   "execution_count": null,
   "id": "626e8a74",
   "metadata": {},
   "outputs": [],
   "source": [
    "import sys\n",
    "import torch\n",
    "from scipy.linalg import sqrtm\n",
    "import matplotlib.pyplot as plt\n",
    "\n",
    "sys.path.append(\"..\")\n",
    "from src.nce.cnce import CondNceCrit\n",
    "from src.nce.rank import NceRankCrit\n",
    "\n",
    "from src.noise_distr.normal import MultivariateNormal\n",
    "from src.models.gaussian_model import DiagGaussianModel\n",
    "\n",
    "from src.training.model_training import train_model, train_model_model_proposal\n",
    "from src.data.normal import MultivariateNormalData\n",
    "from src.training.training_utils import Mse, MvnKlDiv, no_change_stopping_condition, no_stopping\n",
    "%load_ext autoreload\n",
    "%autoreload 2\n",
    "\n",
    "def mvn_curve(mu, cov, std=1, res=100):\n",
    "    with torch.no_grad():\n",
    "        angles = torch.linspace(0, 2*torch.pi, res)\n",
    "        curve_param = torch.column_stack((torch.cos(angles), torch.sin(angles)))\n",
    "        ellipsis = std * curve_param @ torch.Tensor(sqrtm(cov))\n",
    "        return mu + ellipsis\n",
    "    \n",
    "def plot_mvn(levels, ax, label):\n",
    "    ax.plot(levels[:, 0], levels[:, 1], label=label)\n",
    "    \n",
    "def plot_distrs(p_d, p_t_d, p_t_t):    \n",
    "    fig, ax = plt.subplots()\n",
    "    ax.set_xlim([-3, 10])\n",
    "    ax.set_ylim([-3, 10])\n",
    "    plot_mvn(mvn_curve(p_d.mu, p_d.cov), ax, \"$p_{d}}$\")\n",
    "    plot_mvn(mvn_curve(p_t_d.mu, p_t_d.cov()), ax, \"$p_{\\\\theta}, p_n = p_d$\")\n",
    "    plot_mvn(mvn_curve(p_t_t.mu, p_t_t.cov()), ax, \"$p_{\\\\theta}, p_n = p_{\\\\theta}$\")\n",
    "\n",
    "    ax.legend()"
   ]
  },
  {
   "cell_type": "code",
   "execution_count": null,
   "id": "1ccd2c86",
   "metadata": {},
   "outputs": [],
   "source": [
    "# Run experiments\n",
    "D, N, J = 2, 100, 10 # Dimension, Num. data samples, Num neg. samples \n",
    "mu_star, cov_star = torch.ones(D,), torch.eye(D)\n",
    "p_d = MultivariateNormal(mu_star, cov_star)\n",
    "init_mu, init_cov =5.0*torch.ones(D,), 4*torch.eye(D)\n",
    "\n",
    "data_sample = p_d.sample((N,), None)\n",
    "num_epochs = 200\n",
    "batch_size = 10\n",
    "learn_rate = 0.01*batch_size**0.5\n",
    "\n",
    "training_data = MultivariateNormalData(mu_star, cov_star, N)\n",
    "train_loader = torch.utils.data.DataLoader(training_data, batch_size=batch_size, shuffle=True)\n",
    "kl_div = MvnKlDiv(p_d.mu, p_d.cov).metric\n",
    "mse = Mse(p_d.mu).metric\n",
    "metric = kl_div"
   ]
  },
  {
   "cell_type": "code",
   "execution_count": null,
   "id": "f41e67fc",
   "metadata": {},
   "outputs": [],
   "source": [
    "p_t_data_noise = DiagGaussianModel(init_mu.clone(), init_cov.clone())\n",
    "\n",
    "criterion = NceRankCrit(p_t_data_noise, p_d, J)\n",
    "\n",
    "p_d_losses, p_d_metrics = train_model(criterion,\n",
    "                  metric,\n",
    "                  train_loader,\n",
    "                  None,\n",
    "                  neg_sample_size=J,\n",
    "                  num_epochs=num_epochs,\n",
    "                  stopping_condition=no_change_stopping_condition,\n",
    "                  lr=learn_rate)"
   ]
  },
  {
   "cell_type": "code",
   "execution_count": null,
   "id": "cfcdfb44",
   "metadata": {},
   "outputs": [],
   "source": [
    "p_t_model_noise = DiagGaussianModel(init_mu.clone(), init_cov.clone())\n",
    "p_t_losses, p_t_metrics = train_model_model_proposal(p_t_model_noise,\n",
    "                           NceRankCrit,\n",
    "                           metric,\n",
    "                           train_loader,\n",
    "                           None,\n",
    "                           J,\n",
    "                           num_epochs,\n",
    "                           lr=learn_rate)"
   ]
  },
  {
   "cell_type": "code",
   "execution_count": null,
   "id": "ab1c9780",
   "metadata": {},
   "outputs": [],
   "source": [
    "fig, ax = plt.subplots()\n",
    "ax.plot(torch.arange(p_d_metrics.size(0)), p_d_metrics, label=\"$q=p_d$\")\n",
    "ax.plot(torch.arange(p_t_metrics.size(0)), p_t_metrics, label=\"$q=p_{\\\\theta}$\")\n",
    "ax.legend();\n",
    "ax.set_title(\"Choice of proposal distribution\")\n",
    "ax.set_xlabel(\"Iter. step $t$\")\n",
    "ax.set_ylabel(\"KL$(p_d || p_{\\\\theta})$\");"
   ]
  },
  {
   "cell_type": "code",
   "execution_count": null,
   "id": "f1137eba",
   "metadata": {},
   "outputs": [],
   "source": [
    "plot_distrs(p_d, p_t_data_noise, p_t_model_noise)"
   ]
  }
 ],
 "metadata": {
  "kernelspec": {
   "display_name": "Python 3",
   "language": "python",
   "name": "python3"
  },
  "language_info": {
   "codemirror_mode": {
    "name": "ipython",
    "version": 3
   },
   "file_extension": ".py",
   "mimetype": "text/x-python",
   "name": "python",
   "nbconvert_exporter": "python",
   "pygments_lexer": "ipython3",
   "version": "3.8.0"
  }
 },
 "nbformat": 4,
 "nbformat_minor": 5
}
