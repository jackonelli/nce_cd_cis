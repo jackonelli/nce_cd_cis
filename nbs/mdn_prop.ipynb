{
 "cells": [
  {
   "cell_type": "code",
   "execution_count": null,
   "id": "c3b31c6c",
   "metadata": {},
   "outputs": [],
   "source": [
    "import sys\n",
    "import torch\n",
    "from scipy.linalg import sqrtm\n",
    "import matplotlib.pyplot as plt\n",
    "import numpy as np\n",
    "\n",
    "sys.path.append(\"..\")\n",
    "sys.path.append(\"../../ebms_proposals/1dregression_1/\")\n",
    "from src.nce.cnce import CondNceCrit\n",
    "from src.nce.rank import NceRankCrit\n",
    "\n",
    "from src.noise_distr.normal import MultivariateNormal\n",
    "from src.models.gaussian_model import DiagGaussianModel\n",
    "\n",
    "from src.training.model_training import train_model, train_model_model_proposal\n",
    "from src.data.normal import MultivariateNormalData\n",
    "from src.training.training_utils import Mse, MvnKlDiv, no_change_stopping_condition, no_stopping\n",
    "\n",
    "# MDN proposal imports\n",
    "from gaussian_mdn import sample_gmm_centered, gmm_density_centered\n",
    "%load_ext autoreload\n",
    "%autoreload 2"
   ]
  },
  {
   "cell_type": "code",
   "execution_count": null,
   "id": "2f328926",
   "metadata": {},
   "outputs": [],
   "source": [
    "STDS = torch.tensor([[0.1, 0.8]])\n",
    "#STDS[0, 0] = 0.1\n",
    "#STDS[0, 1] = 0.8\n",
    "\n",
    "NUM_SAMPLES = 1024\n",
    "\n",
    "sample_gmm_centered(STDS, NUM_SAMPLES)\n",
    "num_components = STDS.shape[-1]\n",
    "num_dims = STDS.numel() // num_components\n",
    "std_pdf = STDS.view(1, num_dims, num_components)\n",
    "\n",
    "xs = torch.linspace(-3, 3, steps=1000).unsqueeze(-1)\n",
    "# plt.plot(xs, gmm_density_centered(torch.zeros_like(xs), std_pdf))\n",
    "plt.plot(xs, gmm_density_centered(xs, std_pdf))"
   ]
  }
 ],
 "metadata": {
  "kernelspec": {
   "display_name": "deep_ext_obj",
   "language": "python",
   "name": "deep_ext_obj"
  },
  "language_info": {
   "codemirror_mode": {
    "name": "ipython",
    "version": 3
   },
   "file_extension": ".py",
   "mimetype": "text/x-python",
   "name": "python",
   "nbconvert_exporter": "python",
   "pygments_lexer": "ipython3",
   "version": "3.8.0"
  }
 },
 "nbformat": 4,
 "nbformat_minor": 5
}
