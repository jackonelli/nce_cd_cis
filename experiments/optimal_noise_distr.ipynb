{
 "cells": [
  {
   "cell_type": "code",
   "execution_count": null,
   "id": "626e8a74",
   "metadata": {},
   "outputs": [],
   "source": [
    "import sys\n",
    "import torch\n",
    "from scipy.linalg import sqrtm\n",
    "import matplotlib.pyplot as plt\n",
    "\n",
    "sys.path.append(\"..\")\n",
    "from src.nce.cnce import CondNceCrit\n",
    "from src.nce.rank import NceRankCrit\n",
    "\n",
    "from src.noise_distr.normal import MultivariateNormal\n",
    "from src.models.gaussian_model import DiagGaussianModel\n",
    "\n",
    "from src.training.model_training import train_model\n",
    "from src.data.generic import Generic\n",
    "from src.training.training_utils import Mse, no_change_stopping_condition\n",
    "%load_ext autoreload\n",
    "%autoreload 2"
   ]
  },
  {
   "cell_type": "code",
   "execution_count": null,
   "id": "dec356bb",
   "metadata": {},
   "outputs": [],
   "source": [
    "def mvn_curve(mu, cov, std=1, res=100):\n",
    "    with torch.no_grad():\n",
    "        angles = torch.linspace(0, 2*torch.pi, res)\n",
    "        curve_param = torch.column_stack((torch.cos(angles), torch.sin(angles)))\n",
    "        ellipsis = std * curve_param @ torch.Tensor(sqrtm(cov))\n",
    "        return mu + ellipsis\n",
    "    \n",
    "def plot_mvn(levels, ax, label):\n",
    "    ax.plot(levels[:, 0], levels[:, 1], label=label)\n",
    "    \n",
    "def plot_distrs(p_d, p_t_d, p_t_t):    \n",
    "    fig, ax = plt.subplots()\n",
    "    ax.set_xlim([-3, 10])\n",
    "    ax.set_ylim([-3, 10])\n",
    "    plot_mvn(mvn_curve(p_d.mu, p_d.cov), ax, \"$p_{d}}$\")\n",
    "    plot_mvn(mvn_curve(p_t_d.mu, p_t_d.cov()), ax, \"$p_{\\\\theta}, p_n = p_d$\")\n",
    "    plot_mvn(mvn_curve(p_t_t.mu, p_t_t.cov()), ax, \"$p_{\\\\theta}, p_n = p_{\\\\theta}$\")\n",
    "\n",
    "    ax.legend()"
   ]
  },
  {
   "cell_type": "code",
   "execution_count": null,
   "id": "1ccd2c86",
   "metadata": {},
   "outputs": [],
   "source": [
    "# Run experiments\n",
    "D, N, J = 2, 100, 1 # Dimension, Num. data samples, Num neg. samples \n",
    "mu_star, Sigma_star = torch.ones(D,), torch.eye(D)\n",
    "p_d = MultivariateNormal(mu_star, Sigma_star)\n",
    "data_sample = p_d.sample((N,), None)\n",
    "num_epochs = 50\n",
    "batch_size = 10\n"
   ]
  },
  {
   "cell_type": "code",
   "execution_count": null,
   "id": "f41e67fc",
   "metadata": {},
   "outputs": [],
   "source": [
    "p_t_data_noise = DiagGaussianModel(mu=5.0*torch.ones(D,), cov=torch.eye(D))\n",
    "\n",
    "\n",
    "\n",
    "training_data = Generic(data_sample)\n",
    "train_loader = torch.utils.data.DataLoader(training_data, batch_size=batch_size, shuffle=True)\n",
    "criterion = NceRankCrit(p_t_data_noise, p_d, J)\n",
    "error_metric = Mse(p_d).metric\n",
    "err = train_model(criterion,\n",
    "                  error_metric,\n",
    "                  train_loader,\n",
    "                  None,\n",
    "                  neg_sample_size=J,\n",
    "                  num_epochs=num_epochs,\n",
    "                  stopping_condition=no_change_stopping_condition)"
   ]
  },
  {
   "cell_type": "code",
   "execution_count": null,
   "id": "cfcdfb44",
   "metadata": {},
   "outputs": [],
   "source": [
    "\n",
    "#running_loss_it = np.zeros(num_epochs)\n",
    "\n",
    "p_t_model_noise = DiagGaussianModel(mu=5.0*torch.ones(D,), cov=4*torch.eye(D))\n",
    "optimizer = torch.optim.SGD(p_t_model_noise.parameters(), lr=0.1)\n",
    "\n",
    "metric = []\n",
    "for epoch in range(1, num_epochs+1):\n",
    "    # print(f\"Epoch {epoch}\")\n",
    "    running_loss = 0.0\n",
    "    old_params = torch.nn.utils.parameters_to_vector(p_t_model_noise.parameters())\n",
    "    for i, (y, idx) in enumerate(train_loader, 0):\n",
    "        #print(f\"Batch {i+1}\")\n",
    "        #print(f\"mu: {p_t_model_noise.mu}, diag cov: {torch.diag(p_t_model_noise.cov())}\")\n",
    "        q = MultivariateNormal(p_t_model_noise.mu.detach().clone(), p_t_model_noise.cov().clone().detach().clone())\n",
    "        criterion = NceRankCrit(p_t_model_noise, q, J)\n",
    "        optimizer.zero_grad()\n",
    "        with torch.no_grad():\n",
    "            loss = criterion.crit(y, None)\n",
    "            # print(loss)\n",
    "        # Calculate and assign gradients\n",
    "        criterion.calculate_crit_grad(y, idx)\n",
    "\n",
    "        # Take gradient step\n",
    "        optimizer.step()\n",
    "\n",
    "        # TODO: not sure how to do here\n",
    "        #running_loss += loss.item()\n",
    "    metric.append(error_metric(p_t_model_noise).detach().numpy())\n",
    "\n",
    "    # print('[%d] evaluation metric: %.3f' %\n",
    "    #       (epoch + 1, metric[epoch]))\n",
    "print(\"Finished training\")"
   ]
  },
  {
   "cell_type": "code",
   "execution_count": null,
   "id": "3bfd33c8",
   "metadata": {},
   "outputs": [],
   "source": [
    "x_0 = p_d.mu\n",
    "x_1 = p_t_model_noise.mu\n",
    "x_1"
   ]
  },
  {
   "cell_type": "code",
   "execution_count": null,
   "id": "1920a274",
   "metadata": {},
   "outputs": [],
   "source": [
    "plot_distrs(p_d, p_t_data_noise, p_t_model_noise)"
   ]
  },
  {
   "cell_type": "code",
   "execution_count": null,
   "id": "a6ac6d1e",
   "metadata": {},
   "outputs": [],
   "source": [
    "p_t_model_noise.mu"
   ]
  }
 ],
 "metadata": {
  "kernelspec": {
   "display_name": "Python 3",
   "language": "python",
   "name": "python3"
  },
  "language_info": {
   "codemirror_mode": {
    "name": "ipython",
    "version": 3
   },
   "file_extension": ".py",
   "mimetype": "text/x-python",
   "name": "python",
   "nbconvert_exporter": "python",
   "pygments_lexer": "ipython3",
   "version": "3.10.6"
  }
 },
 "nbformat": 4,
 "nbformat_minor": 5
}
